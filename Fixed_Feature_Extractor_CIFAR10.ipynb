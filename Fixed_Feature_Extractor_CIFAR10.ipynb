{
  "nbformat": 4,
  "nbformat_minor": 0,
  "metadata": {
    "colab": {
      "name": "Fixed Feature Extractor-CIFAR10.ipynb",
      "provenance": []
    },
    "kernelspec": {
      "name": "python3",
      "display_name": "Python 3"
    },
    "accelerator": "GPU"
  },
  "cells": [
    {
      "cell_type": "code",
      "metadata": {
        "colab": {
          "base_uri": "https://localhost:8080/"
        },
        "id": "8RuwGYPBGsyt",
        "outputId": "3dfe0c9c-7825-46e2-e564-05d8aa3126e6"
      },
      "source": [
        "from google.colab import drive\r\n",
        "drive.mount('/content/drive')"
      ],
      "execution_count": null,
      "outputs": [
        {
          "output_type": "stream",
          "text": [
            "Mounted at /content/drive\n"
          ],
          "name": "stdout"
        }
      ]
    },
    {
      "cell_type": "code",
      "metadata": {
        "colab": {
          "base_uri": "https://localhost:8080/"
        },
        "id": "aPPmU28-G-D2",
        "outputId": "e67b6b2b-7163-43f5-a0d3-000f9a7bda42"
      },
      "source": [
        "%cd drive/MyDrive/Phase Project"
      ],
      "execution_count": null,
      "outputs": [
        {
          "output_type": "stream",
          "text": [
            "/content/drive/MyDrive/Phase Project\n"
          ],
          "name": "stdout"
        }
      ]
    },
    {
      "cell_type": "code",
      "metadata": {
        "colab": {
          "base_uri": "https://localhost:8080/"
        },
        "id": "wQPLUfXYHDij",
        "outputId": "5831c2af-9129-4dcc-d272-3be0055aebf6"
      },
      "source": [
        "import numpy as np\r\n",
        "import matplotlib.pyplot as plt\r\n",
        "import torch\r\n",
        "import torch.nn as nn\r\n",
        "import torch.optim as optim\r\n",
        "import torch.utils.data as utils\r\n",
        "from torch.utils.data import Dataset, DataLoader\r\n",
        "from torch.utils.data import random_split\r\n",
        "import torch.nn.functional as F\r\n",
        "import torchvision\r\n",
        "from torchvision import datasets, models, transforms\r\n",
        "from torchvision.transforms import ToTensor\r\n",
        "print(\"PyTorch Version: \",torch.__version__)\r\n",
        "print(\"Torchvision Version: \",torchvision.__version__)\r\n",
        "import os"
      ],
      "execution_count": null,
      "outputs": [
        {
          "output_type": "stream",
          "text": [
            "PyTorch Version:  1.7.0+cu101\n",
            "Torchvision Version:  0.8.1+cu101\n"
          ],
          "name": "stdout"
        }
      ]
    },
    {
      "cell_type": "code",
      "metadata": {
        "colab": {
          "base_uri": "https://localhost:8080/"
        },
        "id": "luuZ2crsHNUZ",
        "outputId": "922de4eb-8862-4943-8c16-f58c570e0078"
      },
      "source": [
        "!pip install efficientnet_pytorch"
      ],
      "execution_count": null,
      "outputs": [
        {
          "output_type": "stream",
          "text": [
            "Requirement already satisfied: efficientnet_pytorch in /usr/local/lib/python3.6/dist-packages (0.7.0)\n",
            "Requirement already satisfied: torch in /usr/local/lib/python3.6/dist-packages (from efficientnet_pytorch) (1.7.0+cu101)\n",
            "Requirement already satisfied: typing-extensions in /usr/local/lib/python3.6/dist-packages (from torch->efficientnet_pytorch) (3.7.4.3)\n",
            "Requirement already satisfied: future in /usr/local/lib/python3.6/dist-packages (from torch->efficientnet_pytorch) (0.16.0)\n",
            "Requirement already satisfied: numpy in /usr/local/lib/python3.6/dist-packages (from torch->efficientnet_pytorch) (1.18.5)\n",
            "Requirement already satisfied: dataclasses in /usr/local/lib/python3.6/dist-packages (from torch->efficientnet_pytorch) (0.8)\n"
          ],
          "name": "stdout"
        }
      ]
    },
    {
      "cell_type": "code",
      "metadata": {
        "colab": {
          "base_uri": "https://localhost:8080/"
        },
        "id": "NWpD7pPYHSF4",
        "outputId": "8ca0b0a8-f60b-4aa2-c408-ea19febbcd05"
      },
      "source": [
        "from efficientnet_pytorch import EfficientNet\r\n",
        "model_name = 'efficientnet-b0'\r\n",
        "model = EfficientNet.from_pretrained(model_name)\r\n",
        "image_size = EfficientNet.get_image_size(model_name)\r\n",
        "print(image_size)"
      ],
      "execution_count": null,
      "outputs": [
        {
          "output_type": "stream",
          "text": [
            "Loaded pretrained weights for efficientnet-b0\n",
            "224\n"
          ],
          "name": "stdout"
        }
      ]
    },
    {
      "cell_type": "markdown",
      "metadata": {
        "id": "8cQ_4iBOHdeG"
      },
      "source": [
        "##Dataset Exploration"
      ]
    },
    {
      "cell_type": "code",
      "metadata": {
        "id": "Lqx74rdqHWMX"
      },
      "source": [
        "#Transformations\r\n",
        "from PIL.Image import BICUBIC\r\n",
        "\r\n",
        "transform_train = transforms.Compose([\r\n",
        "    transforms.Resize(224, BICUBIC),\r\n",
        "    transforms.RandomHorizontalFlip(),\r\n",
        "    transforms.ToTensor(),\r\n",
        "    transforms.Normalize((0.4914, 0.4822, 0.4465),(0.2023, 0.1994, 0.2010))\r\n",
        "])\r\n",
        "\r\n",
        "transform_test = transforms.Compose([\r\n",
        "    transforms.Resize(224, BICUBIC),\r\n",
        "    transforms.ToTensor(),\r\n",
        "    transforms.Normalize((0.4914, 0.4822, 0.4465),(0.2023, 0.1994, 0.2010))\r\n",
        "])"
      ],
      "execution_count": null,
      "outputs": []
    },
    {
      "cell_type": "code",
      "metadata": {
        "colab": {
          "base_uri": "https://localhost:8080/"
        },
        "id": "v2shp31QHgQL",
        "outputId": "2d796d58-0a75-47b4-e160-d949b802da36"
      },
      "source": [
        "dataset = torchvision.datasets.CIFAR10(root = './data', train=True, transform= transform_train, download=True)\r\n",
        "testset = torchvision.datasets.CIFAR10(root = './data', train=False, transform= transform_test,  download=True)"
      ],
      "execution_count": null,
      "outputs": [
        {
          "output_type": "stream",
          "text": [
            "Files already downloaded and verified\n",
            "Files already downloaded and verified\n"
          ],
          "name": "stdout"
        }
      ]
    },
    {
      "cell_type": "code",
      "metadata": {
        "colab": {
          "base_uri": "https://localhost:8080/"
        },
        "id": "yFeOQ0JvHq3I",
        "outputId": "e4ad3b3a-8303-49ae-a6b1-e35a17bd2f99"
      },
      "source": [
        "classname = dataset.classes\r\n",
        "print(classname)\r\n",
        "print(len(classname))\r\n",
        "device = torch.device(\"cuda:0\" if torch.cuda.is_available() else \"cpu\")\r\n",
        "device"
      ],
      "execution_count": null,
      "outputs": [
        {
          "output_type": "stream",
          "text": [
            "['airplane', 'automobile', 'bird', 'cat', 'deer', 'dog', 'frog', 'horse', 'ship', 'truck']\n",
            "10\n"
          ],
          "name": "stdout"
        },
        {
          "output_type": "execute_result",
          "data": {
            "text/plain": [
              "device(type='cuda', index=0)"
            ]
          },
          "metadata": {
            "tags": []
          },
          "execution_count": 7
        }
      ]
    },
    {
      "cell_type": "code",
      "metadata": {
        "colab": {
          "base_uri": "https://localhost:8080/",
          "height": 306
        },
        "id": "BuFoA9Q3H7-T",
        "outputId": "9b5c21cf-ce49-464e-9c8d-c7c5a60c6782"
      },
      "source": [
        "trainset = dataset\r\n",
        "train = torch.utils.data.DataLoader(trainset, batch_size=128, shuffle=True, num_workers = 2)\r\n",
        "test = torch.utils.data.DataLoader(testset, batch_size = 128, shuffle=True, num_workers = 2)\r\n",
        "\r\n",
        "\r\n",
        "out, label = next(iter(train))\r\n",
        "img = torchvision.utils.make_grid(out)\r\n",
        "img = img.numpy().transpose((1, 2, 0))\r\n",
        "mean = np.array([0.4914, 0.4822, 0.4465])\r\n",
        "std = np.array([0.2023, 0.1994, 0.2010])\r\n",
        "img = std* img + mean\r\n",
        "img = np.clip(img, 0, 1)\r\n",
        "plt.imshow(img)\r\n",
        "print([classname[x] for x in label])"
      ],
      "execution_count": null,
      "outputs": [
        {
          "output_type": "stream",
          "text": [
            "['deer', 'dog', 'deer', 'automobile', 'horse', 'ship', 'bird', 'deer', 'dog', 'airplane', 'cat', 'automobile', 'deer', 'airplane', 'dog', 'dog', 'bird', 'automobile', 'dog', 'horse', 'bird', 'frog', 'airplane', 'automobile', 'deer', 'automobile', 'frog', 'deer', 'deer', 'frog', 'frog', 'dog', 'ship', 'cat', 'cat', 'bird', 'bird', 'bird', 'dog', 'deer', 'horse', 'deer', 'horse', 'frog', 'dog', 'automobile', 'ship', 'ship', 'cat', 'ship', 'horse', 'cat', 'dog', 'deer', 'ship', 'truck', 'deer', 'horse', 'frog', 'frog', 'deer', 'ship', 'cat', 'dog', 'horse', 'automobile', 'deer', 'airplane', 'frog', 'dog', 'cat', 'frog', 'horse', 'cat', 'airplane', 'deer', 'airplane', 'deer', 'cat', 'frog', 'airplane', 'truck', 'automobile', 'deer', 'deer', 'automobile', 'airplane', 'ship', 'bird', 'horse', 'truck', 'dog', 'truck', 'ship', 'horse', 'bird', 'airplane', 'frog', 'horse', 'automobile', 'horse', 'frog', 'dog', 'horse', 'horse', 'ship', 'ship', 'airplane', 'dog', 'truck', 'truck', 'bird', 'horse', 'ship', 'automobile', 'airplane', 'bird', 'deer', 'dog', 'horse', 'deer', 'truck', 'horse', 'frog', 'bird', 'deer', 'airplane', 'automobile']\n"
          ],
          "name": "stdout"
        },
        {
          "output_type": "display_data",
          "data": {
            "image/png": "[encoded data removed]",
            "text/plain": [
              "<Figure size 432x288 with 1 Axes>"
            ]
          },
          "metadata": {
            "tags": [],
            "needs_background": "light"
          }
        }
      ]
    },
    {
      "cell_type": "code",
      "metadata": {
        "colab": {
          "base_uri": "https://localhost:8080/"
        },
        "id": "lANuVMepJCDA",
        "outputId": "8c5b4db7-339a-45dd-eaa7-f4d450f20bc0"
      },
      "source": [
        "dataset_size = len(trainset)\r\n",
        "classes = dataset.classes\r\n",
        "num_classes = len(dataset.classes)\r\n",
        "img_dict = {}\r\n",
        "for i in range(num_classes):\r\n",
        "    img_dict[classes[i]] = 0\r\n",
        "\r\n",
        "for i in range(dataset_size):\r\n",
        "    img, label = dataset[i]\r\n",
        "    img_dict[classes[label]] += 1\r\n",
        "\r\n",
        "img_dict"
      ],
      "execution_count": null,
      "outputs": [
        {
          "output_type": "execute_result",
          "data": {
            "text/plain": [
              "{'airplane': 5000,\n",
              " 'automobile': 5000,\n",
              " 'bird': 5000,\n",
              " 'cat': 5000,\n",
              " 'deer': 5000,\n",
              " 'dog': 5000,\n",
              " 'frog': 5000,\n",
              " 'horse': 5000,\n",
              " 'ship': 5000,\n",
              " 'truck': 5000}"
            ]
          },
          "metadata": {
            "tags": []
          },
          "execution_count": 10
        }
      ]
    },
    {
      "cell_type": "code",
      "metadata": {
        "colab": {
          "base_uri": "https://localhost:8080/"
        },
        "id": "HCvIfWT0JZ0S",
        "outputId": "1856c368-208e-41fb-af21-74f1bd3eec2f"
      },
      "source": [
        "dataset_size = len(testset)\r\n",
        "classes = dataset.classes\r\n",
        "num_classes = len(dataset.classes)\r\n",
        "img_dict = {}\r\n",
        "for i in range(num_classes):\r\n",
        "    img_dict[classes[i]] = 0\r\n",
        "\r\n",
        "for i in range(dataset_size):\r\n",
        "    img, label = dataset[i]\r\n",
        "    img_dict[classes[label]] += 1\r\n",
        "\r\n",
        "img_dict"
      ],
      "execution_count": null,
      "outputs": [
        {
          "output_type": "execute_result",
          "data": {
            "text/plain": [
              "{'airplane': 1005,\n",
              " 'automobile': 974,\n",
              " 'bird': 1032,\n",
              " 'cat': 1016,\n",
              " 'deer': 999,\n",
              " 'dog': 937,\n",
              " 'frog': 1030,\n",
              " 'horse': 1001,\n",
              " 'ship': 1025,\n",
              " 'truck': 981}"
            ]
          },
          "metadata": {
            "tags": []
          },
          "execution_count": 11
        }
      ]
    },
    {
      "cell_type": "markdown",
      "metadata": {
        "id": "zQTz0MaAKeBr"
      },
      "source": [
        "Dataset is well balanced"
      ]
    },
    {
      "cell_type": "markdown",
      "metadata": {
        "id": "kbJL61vdKsq2"
      },
      "source": [
        "#Model Designing\r\n",
        "\r\n",
        "First, using as fixed feature extractor, training only last(linear layer)"
      ]
    },
    {
      "cell_type": "code",
      "metadata": {
        "colab": {
          "base_uri": "https://localhost:8080/"
        },
        "id": "f6Mm_metKcHj",
        "outputId": "a7fc53c9-94f2-42cd-e2b3-68393720f83c"
      },
      "source": [
        "model.to(device)"
      ],
      "execution_count": null,
      "outputs": [
        {
          "output_type": "execute_result",
          "data": {
            "text/plain": [
              "EfficientNet(\n",
              "  (_conv_stem): Conv2dStaticSamePadding(\n",
              "    3, 32, kernel_size=(3, 3), stride=(2, 2), bias=False\n",
              "    (static_padding): ZeroPad2d(padding=(1, 1, 1, 1), value=0.0)\n",
              "  )\n",
              "  (_bn0): BatchNorm2d(32, eps=0.001, momentum=0.010000000000000009, affine=True, track_running_stats=True)\n",
              "  (_blocks): ModuleList(\n",
              "    (0): MBConvBlock(\n",
              "      (_depthwise_conv): Conv2dStaticSamePadding(\n",
              "        32, 32, kernel_size=(3, 3), stride=[1, 1], groups=32, bias=False\n",
              "        (static_padding): ZeroPad2d(padding=(1, 1, 1, 1), value=0.0)\n",
              "      )\n",
              "      (_bn1): BatchNorm2d(32, eps=0.001, momentum=0.010000000000000009, affine=True, track_running_stats=True)\n",
              "      (_se_reduce): Conv2dStaticSamePadding(\n",
              "        32, 8, kernel_size=(1, 1), stride=(1, 1)\n",
              "        (static_padding): Identity()\n",
              "      )\n",
              "      (_se_expand): Conv2dStaticSamePadding(\n",
              "        8, 32, kernel_size=(1, 1), stride=(1, 1)\n",
              "        (static_padding): Identity()\n",
              "      )\n",
              "      (_project_conv): Conv2dStaticSamePadding(\n",
              "        32, 16, kernel_size=(1, 1), stride=(1, 1), bias=False\n",
              "        (static_padding): Identity()\n",
              "      )\n",
              "      (_bn2): BatchNorm2d(16, eps=0.001, momentum=0.010000000000000009, affine=True, track_running_stats=True)\n",
              "      (_swish): MemoryEfficientSwish()\n",
              "    )\n",
              "    (1): MBConvBlock(\n",
              "      (_expand_conv): Conv2dStaticSamePadding(\n",
              "        16, 96, kernel_size=(1, 1), stride=(1, 1), bias=False\n",
              "        (static_padding): Identity()\n",
              "      )\n",
              "      (_bn0): BatchNorm2d(96, eps=0.001, momentum=0.010000000000000009, affine=True, track_running_stats=True)\n",
              "      (_depthwise_conv): Conv2dStaticSamePadding(\n",
              "        96, 96, kernel_size=(3, 3), stride=[2, 2], groups=96, bias=False\n",
              "        (static_padding): ZeroPad2d(padding=(1, 1, 1, 1), value=0.0)\n",
              "      )\n",
              "      (_bn1): BatchNorm2d(96, eps=0.001, momentum=0.010000000000000009, affine=True, track_running_stats=True)\n",
              "      (_se_reduce): Conv2dStaticSamePadding(\n",
              "        96, 4, kernel_size=(1, 1), stride=(1, 1)\n",
              "        (static_padding): Identity()\n",
              "      )\n",
              "      (_se_expand): Conv2dStaticSamePadding(\n",
              "        4, 96, kernel_size=(1, 1), stride=(1, 1)\n",
              "        (static_padding): Identity()\n",
              "      )\n",
              "      (_project_conv): Conv2dStaticSamePadding(\n",
              "        96, 24, kernel_size=(1, 1), stride=(1, 1), bias=False\n",
              "        (static_padding): Identity()\n",
              "      )\n",
              "      (_bn2): BatchNorm2d(24, eps=0.001, momentum=0.010000000000000009, affine=True, track_running_stats=True)\n",
              "      (_swish): MemoryEfficientSwish()\n",
              "    )\n",
              "    (2): MBConvBlock(\n",
              "      (_expand_conv): Conv2dStaticSamePadding(\n",
              "        24, 144, kernel_size=(1, 1), stride=(1, 1), bias=False\n",
              "        (static_padding): Identity()\n",
              "      )\n",
              "      (_bn0): BatchNorm2d(144, eps=0.001, momentum=0.010000000000000009, affine=True, track_running_stats=True)\n",
              "      (_depthwise_conv): Conv2dStaticSamePadding(\n",
              "        144, 144, kernel_size=(3, 3), stride=(1, 1), groups=144, bias=False\n",
              "        (static_padding): ZeroPad2d(padding=(1, 1, 1, 1), value=0.0)\n",
              "      )\n",
              "      (_bn1): BatchNorm2d(144, eps=0.001, momentum=0.010000000000000009, affine=True, track_running_stats=True)\n",
              "      (_se_reduce): Conv2dStaticSamePadding(\n",
              "        144, 6, kernel_size=(1, 1), stride=(1, 1)\n",
              "        (static_padding): Identity()\n",
              "      )\n",
              "      (_se_expand): Conv2dStaticSamePadding(\n",
              "        6, 144, kernel_size=(1, 1), stride=(1, 1)\n",
              "        (static_padding): Identity()\n",
              "      )\n",
              "      (_project_conv): Conv2dStaticSamePadding(\n",
              "        144, 24, kernel_size=(1, 1), stride=(1, 1), bias=False\n",
              "        (static_padding): Identity()\n",
              "      )\n",
              "      (_bn2): BatchNorm2d(24, eps=0.001, momentum=0.010000000000000009, affine=True, track_running_stats=True)\n",
              "      (_swish): MemoryEfficientSwish()\n",
              "    )\n",
              "    (3): MBConvBlock(\n",
              "      (_expand_conv): Conv2dStaticSamePadding(\n",
              "        24, 144, kernel_size=(1, 1), stride=(1, 1), bias=False\n",
              "        (static_padding): Identity()\n",
              "      )\n",
              "      (_bn0): BatchNorm2d(144, eps=0.001, momentum=0.010000000000000009, affine=True, track_running_stats=True)\n",
              "      (_depthwise_conv): Conv2dStaticSamePadding(\n",
              "        144, 144, kernel_size=(5, 5), stride=[2, 2], groups=144, bias=False\n",
              "        (static_padding): ZeroPad2d(padding=(2, 2, 2, 2), value=0.0)\n",
              "      )\n",
              "      (_bn1): BatchNorm2d(144, eps=0.001, momentum=0.010000000000000009, affine=True, track_running_stats=True)\n",
              "      (_se_reduce): Conv2dStaticSamePadding(\n",
              "        144, 6, kernel_size=(1, 1), stride=(1, 1)\n",
              "        (static_padding): Identity()\n",
              "      )\n",
              "      (_se_expand): Conv2dStaticSamePadding(\n",
              "        6, 144, kernel_size=(1, 1), stride=(1, 1)\n",
              "        (static_padding): Identity()\n",
              "      )\n",
              "      (_project_conv): Conv2dStaticSamePadding(\n",
              "        144, 40, kernel_size=(1, 1), stride=(1, 1), bias=False\n",
              "        (static_padding): Identity()\n",
              "      )\n",
              "      (_bn2): BatchNorm2d(40, eps=0.001, momentum=0.010000000000000009, affine=True, track_running_stats=True)\n",
              "      (_swish): MemoryEfficientSwish()\n",
              "    )\n",
              "    (4): MBConvBlock(\n",
              "      (_expand_conv): Conv2dStaticSamePadding(\n",
              "        40, 240, kernel_size=(1, 1), stride=(1, 1), bias=False\n",
              "        (static_padding): Identity()\n",
              "      )\n",
              "      (_bn0): BatchNorm2d(240, eps=0.001, momentum=0.010000000000000009, affine=True, track_running_stats=True)\n",
              "      (_depthwise_conv): Conv2dStaticSamePadding(\n",
              "        240, 240, kernel_size=(5, 5), stride=(1, 1), groups=240, bias=False\n",
              "        (static_padding): ZeroPad2d(padding=(2, 2, 2, 2), value=0.0)\n",
              "      )\n",
              "      (_bn1): BatchNorm2d(240, eps=0.001, momentum=0.010000000000000009, affine=True, track_running_stats=True)\n",
              "      (_se_reduce): Conv2dStaticSamePadding(\n",
              "        240, 10, kernel_size=(1, 1), stride=(1, 1)\n",
              "        (static_padding): Identity()\n",
              "      )\n",
              "      (_se_expand): Conv2dStaticSamePadding(\n",
              "        10, 240, kernel_size=(1, 1), stride=(1, 1)\n",
              "        (static_padding): Identity()\n",
              "      )\n",
              "      (_project_conv): Conv2dStaticSamePadding(\n",
              "        240, 40, kernel_size=(1, 1), stride=(1, 1), bias=False\n",
              "        (static_padding): Identity()\n",
              "      )\n",
              "      (_bn2): BatchNorm2d(40, eps=0.001, momentum=0.010000000000000009, affine=True, track_running_stats=True)\n",
              "      (_swish): MemoryEfficientSwish()\n",
              "    )\n",
              "    (5): MBConvBlock(\n",
              "      (_expand_conv): Conv2dStaticSamePadding(\n",
              "        40, 240, kernel_size=(1, 1), stride=(1, 1), bias=False\n",
              "        (static_padding): Identity()\n",
              "      )\n",
              "      (_bn0): BatchNorm2d(240, eps=0.001, momentum=0.010000000000000009, affine=True, track_running_stats=True)\n",
              "      (_depthwise_conv): Conv2dStaticSamePadding(\n",
              "        240, 240, kernel_size=(3, 3), stride=[2, 2], groups=240, bias=False\n",
              "        (static_padding): ZeroPad2d(padding=(1, 1, 1, 1), value=0.0)\n",
              "      )\n",
              "      (_bn1): BatchNorm2d(240, eps=0.001, momentum=0.010000000000000009, affine=True, track_running_stats=True)\n",
              "      (_se_reduce): Conv2dStaticSamePadding(\n",
              "        240, 10, kernel_size=(1, 1), stride=(1, 1)\n",
              "        (static_padding): Identity()\n",
              "      )\n",
              "      (_se_expand): Conv2dStaticSamePadding(\n",
              "        10, 240, kernel_size=(1, 1), stride=(1, 1)\n",
              "        (static_padding): Identity()\n",
              "      )\n",
              "      (_project_conv): Conv2dStaticSamePadding(\n",
              "        240, 80, kernel_size=(1, 1), stride=(1, 1), bias=False\n",
              "        (static_padding): Identity()\n",
              "      )\n",
              "      (_bn2): BatchNorm2d(80, eps=0.001, momentum=0.010000000000000009, affine=True, track_running_stats=True)\n",
              "      (_swish): MemoryEfficientSwish()\n",
              "    )\n",
              "    (6): MBConvBlock(\n",
              "      (_expand_conv): Conv2dStaticSamePadding(\n",
              "        80, 480, kernel_size=(1, 1), stride=(1, 1), bias=False\n",
              "        (static_padding): Identity()\n",
              "      )\n",
              "      (_bn0): BatchNorm2d(480, eps=0.001, momentum=0.010000000000000009, affine=True, track_running_stats=True)\n",
              "      (_depthwise_conv): Conv2dStaticSamePadding(\n",
              "        480, 480, kernel_size=(3, 3), stride=(1, 1), groups=480, bias=False\n",
              "        (static_padding): ZeroPad2d(padding=(1, 1, 1, 1), value=0.0)\n",
              "      )\n",
              "      (_bn1): BatchNorm2d(480, eps=0.001, momentum=0.010000000000000009, affine=True, track_running_stats=True)\n",
              "      (_se_reduce): Conv2dStaticSamePadding(\n",
              "        480, 20, kernel_size=(1, 1), stride=(1, 1)\n",
              "        (static_padding): Identity()\n",
              "      )\n",
              "      (_se_expand): Conv2dStaticSamePadding(\n",
              "        20, 480, kernel_size=(1, 1), stride=(1, 1)\n",
              "        (static_padding): Identity()\n",
              "      )\n",
              "      (_project_conv): Conv2dStaticSamePadding(\n",
              "        480, 80, kernel_size=(1, 1), stride=(1, 1), bias=False\n",
              "        (static_padding): Identity()\n",
              "      )\n",
              "      (_bn2): BatchNorm2d(80, eps=0.001, momentum=0.010000000000000009, affine=True, track_running_stats=True)\n",
              "      (_swish): MemoryEfficientSwish()\n",
              "    )\n",
              "    (7): MBConvBlock(\n",
              "      (_expand_conv): Conv2dStaticSamePadding(\n",
              "        80, 480, kernel_size=(1, 1), stride=(1, 1), bias=False\n",
              "        (static_padding): Identity()\n",
              "      )\n",
              "      (_bn0): BatchNorm2d(480, eps=0.001, momentum=0.010000000000000009, affine=True, track_running_stats=True)\n",
              "      (_depthwise_conv): Conv2dStaticSamePadding(\n",
              "        480, 480, kernel_size=(3, 3), stride=(1, 1), groups=480, bias=False\n",
              "        (static_padding): ZeroPad2d(padding=(1, 1, 1, 1), value=0.0)\n",
              "      )\n",
              "      (_bn1): BatchNorm2d(480, eps=0.001, momentum=0.010000000000000009, affine=True, track_running_stats=True)\n",
              "      (_se_reduce): Conv2dStaticSamePadding(\n",
              "        480, 20, kernel_size=(1, 1), stride=(1, 1)\n",
              "        (static_padding): Identity()\n",
              "      )\n",
              "      (_se_expand): Conv2dStaticSamePadding(\n",
              "        20, 480, kernel_size=(1, 1), stride=(1, 1)\n",
              "        (static_padding): Identity()\n",
              "      )\n",
              "      (_project_conv): Conv2dStaticSamePadding(\n",
              "        480, 80, kernel_size=(1, 1), stride=(1, 1), bias=False\n",
              "        (static_padding): Identity()\n",
              "      )\n",
              "      (_bn2): BatchNorm2d(80, eps=0.001, momentum=0.010000000000000009, affine=True, track_running_stats=True)\n",
              "      (_swish): MemoryEfficientSwish()\n",
              "    )\n",
              "    (8): MBConvBlock(\n",
              "      (_expand_conv): Conv2dStaticSamePadding(\n",
              "        80, 480, kernel_size=(1, 1), stride=(1, 1), bias=False\n",
              "        (static_padding): Identity()\n",
              "      )\n",
              "      (_bn0): BatchNorm2d(480, eps=0.001, momentum=0.010000000000000009, affine=True, track_running_stats=True)\n",
              "      (_depthwise_conv): Conv2dStaticSamePadding(\n",
              "        480, 480, kernel_size=(5, 5), stride=[1, 1], groups=480, bias=False\n",
              "        (static_padding): ZeroPad2d(padding=(2, 2, 2, 2), value=0.0)\n",
              "      )\n",
              "      (_bn1): BatchNorm2d(480, eps=0.001, momentum=0.010000000000000009, affine=True, track_running_stats=True)\n",
              "      (_se_reduce): Conv2dStaticSamePadding(\n",
              "        480, 20, kernel_size=(1, 1), stride=(1, 1)\n",
              "        (static_padding): Identity()\n",
              "      )\n",
              "      (_se_expand): Conv2dStaticSamePadding(\n",
              "        20, 480, kernel_size=(1, 1), stride=(1, 1)\n",
              "        (static_padding): Identity()\n",
              "      )\n",
              "      (_project_conv): Conv2dStaticSamePadding(\n",
              "        480, 112, kernel_size=(1, 1), stride=(1, 1), bias=False\n",
              "        (static_padding): Identity()\n",
              "      )\n",
              "      (_bn2): BatchNorm2d(112, eps=0.001, momentum=0.010000000000000009, affine=True, track_running_stats=True)\n",
              "      (_swish): MemoryEfficientSwish()\n",
              "    )\n",
              "    (9): MBConvBlock(\n",
              "      (_expand_conv): Conv2dStaticSamePadding(\n",
              "        112, 672, kernel_size=(1, 1), stride=(1, 1), bias=False\n",
              "        (static_padding): Identity()\n",
              "      )\n",
              "      (_bn0): BatchNorm2d(672, eps=0.001, momentum=0.010000000000000009, affine=True, track_running_stats=True)\n",
              "      (_depthwise_conv): Conv2dStaticSamePadding(\n",
              "        672, 672, kernel_size=(5, 5), stride=(1, 1), groups=672, bias=False\n",
              "        (static_padding): ZeroPad2d(padding=(2, 2, 2, 2), value=0.0)\n",
              "      )\n",
              "      (_bn1): BatchNorm2d(672, eps=0.001, momentum=0.010000000000000009, affine=True, track_running_stats=True)\n",
              "      (_se_reduce): Conv2dStaticSamePadding(\n",
              "        672, 28, kernel_size=(1, 1), stride=(1, 1)\n",
              "        (static_padding): Identity()\n",
              "      )\n",
              "      (_se_expand): Conv2dStaticSamePadding(\n",
              "        28, 672, kernel_size=(1, 1), stride=(1, 1)\n",
              "        (static_padding): Identity()\n",
              "      )\n",
              "      (_project_conv): Conv2dStaticSamePadding(\n",
              "        672, 112, kernel_size=(1, 1), stride=(1, 1), bias=False\n",
              "        (static_padding): Identity()\n",
              "      )\n",
              "      (_bn2): BatchNorm2d(112, eps=0.001, momentum=0.010000000000000009, affine=True, track_running_stats=True)\n",
              "      (_swish): MemoryEfficientSwish()\n",
              "    )\n",
              "    (10): MBConvBlock(\n",
              "      (_expand_conv): Conv2dStaticSamePadding(\n",
              "        112, 672, kernel_size=(1, 1), stride=(1, 1), bias=False\n",
              "        (static_padding): Identity()\n",
              "      )\n",
              "      (_bn0): BatchNorm2d(672, eps=0.001, momentum=0.010000000000000009, affine=True, track_running_stats=True)\n",
              "      (_depthwise_conv): Conv2dStaticSamePadding(\n",
              "        672, 672, kernel_size=(5, 5), stride=(1, 1), groups=672, bias=False\n",
              "        (static_padding): ZeroPad2d(padding=(2, 2, 2, 2), value=0.0)\n",
              "      )\n",
              "      (_bn1): BatchNorm2d(672, eps=0.001, momentum=0.010000000000000009, affine=True, track_running_stats=True)\n",
              "      (_se_reduce): Conv2dStaticSamePadding(\n",
              "        672, 28, kernel_size=(1, 1), stride=(1, 1)\n",
              "        (static_padding): Identity()\n",
              "      )\n",
              "      (_se_expand): Conv2dStaticSamePadding(\n",
              "        28, 672, kernel_size=(1, 1), stride=(1, 1)\n",
              "        (static_padding): Identity()\n",
              "      )\n",
              "      (_project_conv): Conv2dStaticSamePadding(\n",
              "        672, 112, kernel_size=(1, 1), stride=(1, 1), bias=False\n",
              "        (static_padding): Identity()\n",
              "      )\n",
              "      (_bn2): BatchNorm2d(112, eps=0.001, momentum=0.010000000000000009, affine=True, track_running_stats=True)\n",
              "      (_swish): MemoryEfficientSwish()\n",
              "    )\n",
              "    (11): MBConvBlock(\n",
              "      (_expand_conv): Conv2dStaticSamePadding(\n",
              "        112, 672, kernel_size=(1, 1), stride=(1, 1), bias=False\n",
              "        (static_padding): Identity()\n",
              "      )\n",
              "      (_bn0): BatchNorm2d(672, eps=0.001, momentum=0.010000000000000009, affine=True, track_running_stats=True)\n",
              "      (_depthwise_conv): Conv2dStaticSamePadding(\n",
              "        672, 672, kernel_size=(5, 5), stride=[2, 2], groups=672, bias=False\n",
              "        (static_padding): ZeroPad2d(padding=(2, 2, 2, 2), value=0.0)\n",
              "      )\n",
              "      (_bn1): BatchNorm2d(672, eps=0.001, momentum=0.010000000000000009, affine=True, track_running_stats=True)\n",
              "      (_se_reduce): Conv2dStaticSamePadding(\n",
              "        672, 28, kernel_size=(1, 1), stride=(1, 1)\n",
              "        (static_padding): Identity()\n",
              "      )\n",
              "      (_se_expand): Conv2dStaticSamePadding(\n",
              "        28, 672, kernel_size=(1, 1), stride=(1, 1)\n",
              "        (static_padding): Identity()\n",
              "      )\n",
              "      (_project_conv): Conv2dStaticSamePadding(\n",
              "        672, 192, kernel_size=(1, 1), stride=(1, 1), bias=False\n",
              "        (static_padding): Identity()\n",
              "      )\n",
              "      (_bn2): BatchNorm2d(192, eps=0.001, momentum=0.010000000000000009, affine=True, track_running_stats=True)\n",
              "      (_swish): MemoryEfficientSwish()\n",
              "    )\n",
              "    (12): MBConvBlock(\n",
              "      (_expand_conv): Conv2dStaticSamePadding(\n",
              "        192, 1152, kernel_size=(1, 1), stride=(1, 1), bias=False\n",
              "        (static_padding): Identity()\n",
              "      )\n",
              "      (_bn0): BatchNorm2d(1152, eps=0.001, momentum=0.010000000000000009, affine=True, track_running_stats=True)\n",
              "      (_depthwise_conv): Conv2dStaticSamePadding(\n",
              "        1152, 1152, kernel_size=(5, 5), stride=(1, 1), groups=1152, bias=False\n",
              "        (static_padding): ZeroPad2d(padding=(2, 2, 2, 2), value=0.0)\n",
              "      )\n",
              "      (_bn1): BatchNorm2d(1152, eps=0.001, momentum=0.010000000000000009, affine=True, track_running_stats=True)\n",
              "      (_se_reduce): Conv2dStaticSamePadding(\n",
              "        1152, 48, kernel_size=(1, 1), stride=(1, 1)\n",
              "        (static_padding): Identity()\n",
              "      )\n",
              "      (_se_expand): Conv2dStaticSamePadding(\n",
              "        48, 1152, kernel_size=(1, 1), stride=(1, 1)\n",
              "        (static_padding): Identity()\n",
              "      )\n",
              "      (_project_conv): Conv2dStaticSamePadding(\n",
              "        1152, 192, kernel_size=(1, 1), stride=(1, 1), bias=False\n",
              "        (static_padding): Identity()\n",
              "      )\n",
              "      (_bn2): BatchNorm2d(192, eps=0.001, momentum=0.010000000000000009, affine=True, track_running_stats=True)\n",
              "      (_swish): MemoryEfficientSwish()\n",
              "    )\n",
              "    (13): MBConvBlock(\n",
              "      (_expand_conv): Conv2dStaticSamePadding(\n",
              "        192, 1152, kernel_size=(1, 1), stride=(1, 1), bias=False\n",
              "        (static_padding): Identity()\n",
              "      )\n",
              "      (_bn0): BatchNorm2d(1152, eps=0.001, momentum=0.010000000000000009, affine=True, track_running_stats=True)\n",
              "      (_depthwise_conv): Conv2dStaticSamePadding(\n",
              "        1152, 1152, kernel_size=(5, 5), stride=(1, 1), groups=1152, bias=False\n",
              "        (static_padding): ZeroPad2d(padding=(2, 2, 2, 2), value=0.0)\n",
              "      )\n",
              "      (_bn1): BatchNorm2d(1152, eps=0.001, momentum=0.010000000000000009, affine=True, track_running_stats=True)\n",
              "      (_se_reduce): Conv2dStaticSamePadding(\n",
              "        1152, 48, kernel_size=(1, 1), stride=(1, 1)\n",
              "        (static_padding): Identity()\n",
              "      )\n",
              "      (_se_expand): Conv2dStaticSamePadding(\n",
              "        48, 1152, kernel_size=(1, 1), stride=(1, 1)\n",
              "        (static_padding): Identity()\n",
              "      )\n",
              "      (_project_conv): Conv2dStaticSamePadding(\n",
              "        1152, 192, kernel_size=(1, 1), stride=(1, 1), bias=False\n",
              "        (static_padding): Identity()\n",
              "      )\n",
              "      (_bn2): BatchNorm2d(192, eps=0.001, momentum=0.010000000000000009, affine=True, track_running_stats=True)\n",
              "      (_swish): MemoryEfficientSwish()\n",
              "    )\n",
              "    (14): MBConvBlock(\n",
              "      (_expand_conv): Conv2dStaticSamePadding(\n",
              "        192, 1152, kernel_size=(1, 1), stride=(1, 1), bias=False\n",
              "        (static_padding): Identity()\n",
              "      )\n",
              "      (_bn0): BatchNorm2d(1152, eps=0.001, momentum=0.010000000000000009, affine=True, track_running_stats=True)\n",
              "      (_depthwise_conv): Conv2dStaticSamePadding(\n",
              "        1152, 1152, kernel_size=(5, 5), stride=(1, 1), groups=1152, bias=False\n",
              "        (static_padding): ZeroPad2d(padding=(2, 2, 2, 2), value=0.0)\n",
              "      )\n",
              "      (_bn1): BatchNorm2d(1152, eps=0.001, momentum=0.010000000000000009, affine=True, track_running_stats=True)\n",
              "      (_se_reduce): Conv2dStaticSamePadding(\n",
              "        1152, 48, kernel_size=(1, 1), stride=(1, 1)\n",
              "        (static_padding): Identity()\n",
              "      )\n",
              "      (_se_expand): Conv2dStaticSamePadding(\n",
              "        48, 1152, kernel_size=(1, 1), stride=(1, 1)\n",
              "        (static_padding): Identity()\n",
              "      )\n",
              "      (_project_conv): Conv2dStaticSamePadding(\n",
              "        1152, 192, kernel_size=(1, 1), stride=(1, 1), bias=False\n",
              "        (static_padding): Identity()\n",
              "      )\n",
              "      (_bn2): BatchNorm2d(192, eps=0.001, momentum=0.010000000000000009, affine=True, track_running_stats=True)\n",
              "      (_swish): MemoryEfficientSwish()\n",
              "    )\n",
              "    (15): MBConvBlock(\n",
              "      (_expand_conv): Conv2dStaticSamePadding(\n",
              "        192, 1152, kernel_size=(1, 1), stride=(1, 1), bias=False\n",
              "        (static_padding): Identity()\n",
              "      )\n",
              "      (_bn0): BatchNorm2d(1152, eps=0.001, momentum=0.010000000000000009, affine=True, track_running_stats=True)\n",
              "      (_depthwise_conv): Conv2dStaticSamePadding(\n",
              "        1152, 1152, kernel_size=(3, 3), stride=[1, 1], groups=1152, bias=False\n",
              "        (static_padding): ZeroPad2d(padding=(1, 1, 1, 1), value=0.0)\n",
              "      )\n",
              "      (_bn1): BatchNorm2d(1152, eps=0.001, momentum=0.010000000000000009, affine=True, track_running_stats=True)\n",
              "      (_se_reduce): Conv2dStaticSamePadding(\n",
              "        1152, 48, kernel_size=(1, 1), stride=(1, 1)\n",
              "        (static_padding): Identity()\n",
              "      )\n",
              "      (_se_expand): Conv2dStaticSamePadding(\n",
              "        48, 1152, kernel_size=(1, 1), stride=(1, 1)\n",
              "        (static_padding): Identity()\n",
              "      )\n",
              "      (_project_conv): Conv2dStaticSamePadding(\n",
              "        1152, 320, kernel_size=(1, 1), stride=(1, 1), bias=False\n",
              "        (static_padding): Identity()\n",
              "      )\n",
              "      (_bn2): BatchNorm2d(320, eps=0.001, momentum=0.010000000000000009, affine=True, track_running_stats=True)\n",
              "      (_swish): MemoryEfficientSwish()\n",
              "    )\n",
              "  )\n",
              "  (_conv_head): Conv2dStaticSamePadding(\n",
              "    320, 1280, kernel_size=(1, 1), stride=(1, 1), bias=False\n",
              "    (static_padding): Identity()\n",
              "  )\n",
              "  (_bn1): BatchNorm2d(1280, eps=0.001, momentum=0.010000000000000009, affine=True, track_running_stats=True)\n",
              "  (_avg_pooling): AdaptiveAvgPool2d(output_size=1)\n",
              "  (_dropout): Dropout(p=0.2, inplace=False)\n",
              "  (_fc): Linear(in_features=1280, out_features=1000, bias=True)\n",
              "  (_swish): MemoryEfficientSwish()\n",
              ")"
            ]
          },
          "metadata": {
            "tags": []
          },
          "execution_count": 12
        }
      ]
    },
    {
      "cell_type": "code",
      "metadata": {
        "id": "VSKJYJNkKjrG"
      },
      "source": [
        "for param in model.parameters():\r\n",
        "    param.requires_grad = False\r\n",
        "    \r\n",
        "num_ftrs = model._fc.in_features\r\n",
        "model._fc = nn.Linear(num_ftrs, 10).cuda()\r\n",
        "model.to(device)\r\n",
        "\r\n",
        "criterion = nn.CrossEntropyLoss()\r\n",
        "optimizer = optim.SGD(model._fc.parameters(), lr=0.1, momentum=0.9)\r\n",
        "\r\n",
        "from torch.optim import lr_scheduler\r\n",
        "learningrate_scheduler = lr_scheduler.StepLR(optimizer, step_size=10, gamma=0.1)"
      ],
      "execution_count": null,
      "outputs": []
    },
    {
      "cell_type": "code",
      "metadata": {
        "colab": {
          "base_uri": "https://localhost:8080/"
        },
        "id": "ZHQSgCHBK-8c",
        "outputId": "35f11535-b3b1-47c9-f043-83bc46485be5"
      },
      "source": [
        "total_params = sum(p.numel() for p in model.parameters())\r\n",
        "print(f'{total_params:,} total parameters.')\r\n",
        "total_trainable_params = sum(\r\n",
        "    p.numel() for p in model.parameters() if p.requires_grad)\r\n",
        "print(f'{total_trainable_params:,} training parameters.')"
      ],
      "execution_count": null,
      "outputs": [
        {
          "output_type": "stream",
          "text": [
            "4,020,358 total parameters.\n",
            "12,810 training parameters.\n"
          ],
          "name": "stdout"
        }
      ]
    },
    {
      "cell_type": "code",
      "metadata": {
        "id": "5NOsuINnLFRl"
      },
      "source": [
        "#Checkpoint\r\n",
        "\r\n",
        "check_path = '/content/drive/My Drive/Phase Project'"
      ],
      "execution_count": null,
      "outputs": []
    },
    {
      "cell_type": "code",
      "metadata": {
        "id": "MiZ1UIigLIQZ"
      },
      "source": [
        "best_acc = 0\r\n",
        "def train_(model, train, val, optimizer, criterion, scheduler, device, epochs):\r\n",
        "    loss_train_ = []\r\n",
        "    loss_test_ = []\r\n",
        "    for epoch in range(epochs):\r\n",
        "        model.train()\r\n",
        "        loss_train = 0.0\r\n",
        "        correct = 0\r\n",
        "        total = 0\r\n",
        "        for inputs, targets in train:\r\n",
        "            inputs = inputs.to(device)\r\n",
        "            targets = targets.to(device)\r\n",
        "            total += targets.size(0)\r\n",
        "            optimizer.zero_grad()\r\n",
        "            with torch.set_grad_enabled(True):\r\n",
        "              outputs = model(inputs)\r\n",
        "              _, preds = torch.max(outputs,1)\r\n",
        "              loss = criterion(outputs, targets)\r\n",
        "              loss.backward()\r\n",
        "              optimizer.step()\r\n",
        "            loss_train = loss_train + loss.item() * inputs.size(0)\r\n",
        "            correct = correct + torch.sum(preds == targets.data)\r\n",
        "        scheduler.step() \r\n",
        "        print('Epoch: [%d/%d] Train Loss: %.3f | Train Acc: %.3f%% (%d/%d)'\r\n",
        "          %(epoch, epochs, torch.true_divide(loss_train, len(trainset)), 100* torch.true_divide(correct, total) , correct, total))\r\n",
        "        loss_train_.append(torch.true_divide(loss_train,len(trainset) ))\r\n",
        "\r\n",
        "\r\n",
        "        model.eval()\r\n",
        "        loss_val = 0.0\r\n",
        "        corr = 0\r\n",
        "        tot = 0\r\n",
        "        global best_acc\r\n",
        "        for input, target in test:\r\n",
        "            input = input.to(device)\r\n",
        "            target = target.to(device)\r\n",
        "            tot += target.size(0)\r\n",
        "            with torch.no_grad():\r\n",
        "              out = model(input)\r\n",
        "              _, pred = torch.max(out,1)\r\n",
        "              loss = criterion(out, target)\r\n",
        "            loss_val = loss_val + loss.item()* input.size(0)\r\n",
        "            corr = corr + torch.sum(pred == target.data )\r\n",
        "\r\n",
        "        print('Epoch: [%d/%d] Val Loss: %.3f | Val Acc: %.3f%% (%d/%d)'\r\n",
        "          %(epoch, epochs, torch.true_divide(loss_val, len(testset)), 100* torch.true_divide(corr,tot) , corr, tot))\r\n",
        "        loss_test_.append(torch.true_divide(loss_val,len(testset) ))\r\n",
        "        acc = 100* torch.true_divide(corr,tot)\r\n",
        "        if acc > best_acc:\r\n",
        "           print('Saving the model..')\r\n",
        "           state = {\r\n",
        "             'model': model.state_dict(),\r\n",
        "             'acc': acc,\r\n",
        "             'epoch': epoch,\r\n",
        "              }\r\n",
        "           if not os.path.isdir('checkpoint'):\r\n",
        "                  os.mkdir('checkpoint')\r\n",
        "                  torch.save(state, './checkpoint/ckpt.pth')\r\n",
        "           best_acc = acc\r\n",
        "\r\n",
        "    return loss_train_, loss_test_    "
      ],
      "execution_count": null,
      "outputs": []
    },
    {
      "cell_type": "markdown",
      "metadata": {
        "id": "3ByJhXL_zJEG"
      },
      "source": [
        "Batch Size 32"
      ]
    },
    {
      "cell_type": "code",
      "metadata": {
        "colab": {
          "base_uri": "https://localhost:8080/"
        },
        "id": "MJ-i9-PzzAWY",
        "outputId": "f6e8fa90-059d-47cd-b2aa-db4b03c6bb1c"
      },
      "source": [
        "train = torch.utils.data.DataLoader(trainset, batch_size=32, shuffle=True, num_workers = 2)\r\n",
        "test = torch.utils.data.DataLoader(testset, batch_size = 32, shuffle=True, num_workers = 2)\r\n",
        "model = EfficientNet.from_pretrained(model_name)\r\n",
        "model.to(device)\r\n",
        "for param in model.parameters():\r\n",
        "    param.requires_grad = False\r\n",
        "    \r\n",
        "num_ftrs = model._fc.in_features\r\n",
        "model._fc = nn.Linear(num_ftrs, 10).cuda()\r\n",
        "model.to(device)\r\n",
        "\r\n",
        "criterion = nn.CrossEntropyLoss()\r\n",
        "optimizer = optim.SGD(model._fc.parameters(), lr=0.1, momentum=0.9)\r\n",
        "\r\n",
        "from torch.optim import lr_scheduler\r\n",
        "learningrate_scheduler = lr_scheduler.StepLR(optimizer, step_size=7, gamma=0.1)\r\n",
        "\r\n",
        "loss1 , loss2 = train_(model, train, test, optimizer, criterion, learningrate_scheduler, device , epochs = 20)"
      ],
      "execution_count": null,
      "outputs": [
        {
          "output_type": "stream",
          "text": [
            "Loaded pretrained weights for efficientnet-b0\n",
            "Epoch: [0/20] Train Loss: 0.889 | Train Acc: 74.542% (37271/50000)\n",
            "Epoch: [0/20] Val Loss: 0.577 | Val Acc: 83.010% (8301/10000)\n",
            "Saving the model..\n",
            "Epoch: [1/20] Train Loss: 0.898 | Train Acc: 76.086% (38043/50000)\n",
            "Epoch: [1/20] Val Loss: 0.611 | Val Acc: 83.290% (8329/10000)\n",
            "Saving the model..\n",
            "Epoch: [2/20] Train Loss: 0.921 | Train Acc: 76.384% (38192/50000)\n",
            "Epoch: [2/20] Val Loss: 0.619 | Val Acc: 82.560% (8256/10000)\n",
            "Saving the model..\n",
            "Epoch: [3/20] Train Loss: 0.910 | Train Acc: 76.912% (38456/50000)\n",
            "Epoch: [3/20] Val Loss: 0.694 | Val Acc: 81.950% (8195/10000)\n",
            "Saving the model..\n",
            "Epoch: [4/20] Train Loss: 0.946 | Train Acc: 76.476% (38238/50000)\n",
            "Epoch: [4/20] Val Loss: 0.649 | Val Acc: 82.800% (8280/10000)\n",
            "Saving the model..\n",
            "Epoch: [5/20] Train Loss: 0.924 | Train Acc: 76.972% (38486/50000)\n",
            "Epoch: [5/20] Val Loss: 0.638 | Val Acc: 83.050% (8305/10000)\n",
            "Saving the model..\n",
            "Epoch: [6/20] Train Loss: 0.917 | Train Acc: 76.934% (38467/50000)\n",
            "Epoch: [6/20] Val Loss: 0.629 | Val Acc: 83.020% (8302/10000)\n",
            "Saving the model..\n",
            "Epoch: [7/20] Train Loss: 0.759 | Train Acc: 79.318% (39659/50000)\n",
            "Epoch: [7/20] Val Loss: 0.485 | Val Acc: 85.650% (8565/10000)\n",
            "Saving the model..\n",
            "Epoch: [8/20] Train Loss: 0.683 | Train Acc: 80.060% (40030/50000)\n",
            "Epoch: [8/20] Val Loss: 0.452 | Val Acc: 85.980% (8598/10000)\n",
            "Saving the model..\n",
            "Epoch: [9/20] Train Loss: 0.643 | Train Acc: 80.756% (40378/50000)\n",
            "Epoch: [9/20] Val Loss: 0.440 | Val Acc: 86.390% (8639/10000)\n",
            "Saving the model..\n",
            "Epoch: [10/20] Train Loss: 0.617 | Train Acc: 80.920% (40460/50000)\n",
            "Epoch: [10/20] Val Loss: 0.428 | Val Acc: 86.280% (8628/10000)\n",
            "Saving the model..\n",
            "Epoch: [11/20] Train Loss: 0.607 | Train Acc: 80.884% (40442/50000)\n",
            "Epoch: [11/20] Val Loss: 0.419 | Val Acc: 86.360% (8636/10000)\n",
            "Saving the model..\n",
            "Epoch: [12/20] Train Loss: 0.595 | Train Acc: 80.896% (40448/50000)\n",
            "Epoch: [12/20] Val Loss: 0.409 | Val Acc: 86.590% (8659/10000)\n",
            "Saving the model..\n",
            "Epoch: [13/20] Train Loss: 0.589 | Train Acc: 81.056% (40528/50000)\n",
            "Epoch: [13/20] Val Loss: 0.402 | Val Acc: 86.700% (8670/10000)\n",
            "Saving the model..\n",
            "Epoch: [14/20] Train Loss: 0.564 | Train Acc: 81.680% (40840/50000)\n",
            "Epoch: [14/20] Val Loss: 0.399 | Val Acc: 86.740% (8674/10000)\n",
            "Saving the model..\n",
            "Epoch: [15/20] Train Loss: 0.561 | Train Acc: 81.696% (40848/50000)\n",
            "Epoch: [15/20] Val Loss: 0.400 | Val Acc: 86.660% (8666/10000)\n",
            "Saving the model..\n",
            "Epoch: [16/20] Train Loss: 0.554 | Train Acc: 81.742% (40871/50000)\n",
            "Epoch: [16/20] Val Loss: 0.397 | Val Acc: 86.930% (8693/10000)\n",
            "Saving the model..\n",
            "Epoch: [17/20] Train Loss: 0.560 | Train Acc: 81.454% (40727/50000)\n",
            "Epoch: [17/20] Val Loss: 0.396 | Val Acc: 86.840% (8684/10000)\n",
            "Saving the model..\n",
            "Epoch: [18/20] Train Loss: 0.556 | Train Acc: 81.708% (40854/50000)\n",
            "Epoch: [18/20] Val Loss: 0.396 | Val Acc: 86.820% (8682/10000)\n",
            "Saving the model..\n",
            "Epoch: [19/20] Train Loss: 0.557 | Train Acc: 81.704% (40852/50000)\n",
            "Epoch: [19/20] Val Loss: 0.395 | Val Acc: 86.860% (8686/10000)\n",
            "Saving the model..\n"
          ],
          "name": "stdout"
        }
      ]
    },
    {
      "cell_type": "code",
      "metadata": {
        "colab": {
          "base_uri": "https://localhost:8080/"
        },
        "id": "_cHn7dcsLLsj",
        "outputId": "5713a14b-7683-4a15-a091-5c66103896ac"
      },
      "source": [
        "train_(model, train, test, optimizer, criterion, learningrate_scheduler, device , epochs = 20)"
      ],
      "execution_count": null,
      "outputs": [
        {
          "output_type": "stream",
          "text": [
            "Epoch: [0/20] Train Loss: 0.518 | Train Acc: 82.686% (41343/50000)\n",
            "Epoch: [0/20] Val Loss: 0.409 | Val Acc: 86.220% (8622/10000)\n",
            "Saving the model..\n",
            "Epoch: [1/20] Train Loss: 0.515 | Train Acc: 82.540% (41270/50000)\n",
            "Epoch: [1/20] Val Loss: 0.410 | Val Acc: 86.330% (8633/10000)\n",
            "Saving the model..\n",
            "Epoch: [2/20] Train Loss: 0.517 | Train Acc: 82.648% (41324/50000)\n",
            "Epoch: [2/20] Val Loss: 0.405 | Val Acc: 86.130% (8613/10000)\n",
            "Epoch: [3/20] Train Loss: 0.521 | Train Acc: 82.548% (41274/50000)\n",
            "Epoch: [3/20] Val Loss: 0.411 | Val Acc: 86.280% (8628/10000)\n",
            "Saving the model..\n",
            "Epoch: [4/20] Train Loss: 0.486 | Train Acc: 83.452% (41726/50000)\n",
            "Epoch: [4/20] Val Loss: 0.387 | Val Acc: 87.220% (8722/10000)\n",
            "Saving the model..\n",
            "Epoch: [5/20] Train Loss: 0.474 | Train Acc: 83.944% (41972/50000)\n",
            "Epoch: [5/20] Val Loss: 0.383 | Val Acc: 87.280% (8728/10000)\n",
            "Saving the model..\n",
            "Epoch: [6/20] Train Loss: 0.471 | Train Acc: 83.982% (41991/50000)\n",
            "Epoch: [6/20] Val Loss: 0.380 | Val Acc: 87.320% (8732/10000)\n",
            "Saving the model..\n",
            "Epoch: [7/20] Train Loss: 0.470 | Train Acc: 83.790% (41895/50000)\n",
            "Epoch: [7/20] Val Loss: 0.381 | Val Acc: 87.360% (8736/10000)\n",
            "Saving the model..\n",
            "Epoch: [8/20] Train Loss: 0.466 | Train Acc: 84.080% (42040/50000)\n",
            "Epoch: [8/20] Val Loss: 0.381 | Val Acc: 87.160% (8716/10000)\n",
            "Epoch: [9/20] Train Loss: 0.467 | Train Acc: 83.954% (41977/50000)\n",
            "Epoch: [9/20] Val Loss: 0.378 | Val Acc: 87.250% (8725/10000)\n",
            "Saving the model..\n",
            "Epoch: [10/20] Train Loss: 0.466 | Train Acc: 84.138% (42069/50000)\n",
            "Epoch: [10/20] Val Loss: 0.379 | Val Acc: 87.210% (8721/10000)\n",
            "Epoch: [11/20] Train Loss: 0.460 | Train Acc: 84.096% (42048/50000)\n",
            "Epoch: [11/20] Val Loss: 0.378 | Val Acc: 87.180% (8718/10000)\n",
            "Epoch: [12/20] Train Loss: 0.466 | Train Acc: 84.006% (42003/50000)\n",
            "Epoch: [12/20] Val Loss: 0.376 | Val Acc: 87.360% (8736/10000)\n",
            "Saving the model..\n"
          ],
          "name": "stdout"
        }
      ]
    },
    {
      "cell_type": "code",
      "metadata": {
        "id": "AHwLIfo_LP6c",
        "colab": {
          "base_uri": "https://localhost:8080/",
          "height": 281
        },
        "outputId": "fbc0bbd9-20bb-48e1-8e13-331a6da1dcd8"
      },
      "source": [
        "x = [i for i in np.arange(0, 20)]\r\n",
        "plt.plot(x, loss1, Label = 'Training Loss')\r\n",
        "plt.plot(x, loss2, Label = 'Validation Loss Loss')\r\n",
        "plt.legend(loc = 'upper right')\r\n",
        "plt.title(\"Training loss vs validation loss\")\r\n",
        "plt.show()"
      ],
      "execution_count": null,
      "outputs": [
        {
          "output_type": "display_data",
          "data": {
            "image/png": "[encoded data removed]",
            "text/plain": [
              "<Figure size 432x288 with 1 Axes>"
            ]
          },
          "metadata": {
            "tags": [],
            "needs_background": "light"
          }
        }
      ]
    },
    {
      "cell_type": "markdown",
      "metadata": {
        "id": "WP_OBqHJLfaT"
      },
      "source": [
        "#Batch Size 8"
      ]
    },
    {
      "cell_type": "code",
      "metadata": {
        "id": "LCbfRJcbLhfx",
        "colab": {
          "base_uri": "https://localhost:8080/"
        },
        "outputId": "29fb6346-9485-49e1-c227-1906966b75f5"
      },
      "source": [
        "train = torch.utils.data.DataLoader(trainset, batch_size=8, shuffle=True, num_workers = 2)\r\n",
        "test = torch.utils.data.DataLoader(testset, batch_size = 8, shuffle=True, num_workers = 2)\r\n",
        "\r\n",
        "train_(model, train, test, optimizer, criterion, learningrate_scheduler, device , epochs = 20)"
      ],
      "execution_count": null,
      "outputs": [
        {
          "output_type": "stream",
          "text": [
            "Epoch: [0/20] Train Loss: 3.361 | Train Acc: 64.106% (32053/50000)\n",
            "Epoch: [0/20] Val Loss: 2.133 | Val Acc: 78.270% (7827/10000)\n",
            "Saving the model..\n",
            "Epoch: [1/20] Train Loss: 3.805 | Train Acc: 66.532% (33266/50000)\n",
            "Epoch: [1/20] Val Loss: 2.011 | Val Acc: 79.000% (7900/10000)\n",
            "Saving the model..\n",
            "Epoch: [2/20] Train Loss: 3.791 | Train Acc: 67.086% (33543/50000)\n",
            "Epoch: [2/20] Val Loss: 2.242 | Val Acc: 78.530% (7853/10000)\n",
            "Saving the model..\n",
            "Epoch: [3/20] Train Loss: 3.845 | Train Acc: 67.428% (33714/50000)\n",
            "Epoch: [3/20] Val Loss: 2.187 | Val Acc: 78.180% (7818/10000)\n",
            "Epoch: [4/20] Train Loss: 3.895 | Train Acc: 67.168% (33584/50000)\n",
            "Epoch: [4/20] Val Loss: 2.407 | Val Acc: 77.660% (7766/10000)\n",
            "Epoch: [5/20] Train Loss: 3.878 | Train Acc: 66.962% (33481/50000)\n",
            "Epoch: [5/20] Val Loss: 2.293 | Val Acc: 78.580% (7858/10000)\n",
            "Saving the model..\n",
            "Epoch: [6/20] Train Loss: 3.884 | Train Acc: 67.314% (33657/50000)\n",
            "Epoch: [6/20] Val Loss: 2.193 | Val Acc: 78.700% (7870/10000)\n",
            "Saving the model..\n",
            "Epoch: [7/20] Train Loss: 3.941 | Train Acc: 67.022% (33511/50000)\n",
            "Epoch: [7/20] Val Loss: 2.224 | Val Acc: 78.450% (7845/10000)\n",
            "Saving the model..\n",
            "Epoch: [8/20] Train Loss: 3.860 | Train Acc: 67.508% (33754/50000)\n",
            "Epoch: [8/20] Val Loss: 2.226 | Val Acc: 78.600% (7860/10000)\n",
            "Saving the model..\n",
            "Epoch: [9/20] Train Loss: 3.909 | Train Acc: 67.208% (33604/50000)\n",
            "Epoch: [9/20] Val Loss: 2.318 | Val Acc: 78.420% (7842/10000)\n",
            "Saving the model..\n",
            "Epoch: [10/20] Train Loss: 2.833 | Train Acc: 71.098% (35549/50000)\n",
            "Epoch: [10/20] Val Loss: 1.547 | Val Acc: 80.980% (8098/10000)\n",
            "Saving the model..\n",
            "Epoch: [11/20] Train Loss: 2.265 | Train Acc: 71.898% (35949/50000)\n",
            "Epoch: [11/20] Val Loss: 1.323 | Val Acc: 82.090% (8209/10000)\n",
            "Saving the model..\n",
            "Epoch: [12/20] Train Loss: 1.976 | Train Acc: 71.972% (35986/50000)\n",
            "Epoch: [12/20] Val Loss: 1.186 | Val Acc: 82.120% (8212/10000)\n",
            "Saving the model..\n",
            "Epoch: [13/20] Train Loss: 1.695 | Train Acc: 72.322% (36161/50000)\n",
            "Epoch: [13/20] Val Loss: 1.008 | Val Acc: 82.650% (8265/10000)\n",
            "Saving the model..\n",
            "Epoch: [14/20] Train Loss: 1.487 | Train Acc: 72.618% (36309/50000)\n",
            "Epoch: [14/20] Val Loss: 0.879 | Val Acc: 82.690% (8269/10000)\n",
            "Saving the model..\n",
            "Epoch: [15/20] Train Loss: 1.346 | Train Acc: 72.454% (36227/50000)\n",
            "Epoch: [15/20] Val Loss: 0.782 | Val Acc: 82.810% (8281/10000)\n",
            "Saving the model..\n",
            "Epoch: [16/20] Train Loss: 1.206 | Train Acc: 72.766% (36383/50000)\n",
            "Epoch: [16/20] Val Loss: 0.733 | Val Acc: 82.680% (8268/10000)\n",
            "Saving the model..\n",
            "Epoch: [17/20] Train Loss: 1.105 | Train Acc: 72.838% (36419/50000)\n",
            "Epoch: [17/20] Val Loss: 0.670 | Val Acc: 83.170% (8317/10000)\n",
            "Saving the model..\n",
            "Epoch: [18/20] Train Loss: 1.033 | Train Acc: 72.932% (36466/50000)\n",
            "Epoch: [18/20] Val Loss: 0.641 | Val Acc: 82.560% (8256/10000)\n",
            "Saving the model..\n",
            "Epoch: [19/20] Train Loss: 0.966 | Train Acc: 73.344% (36672/50000)\n",
            "Epoch: [19/20] Val Loss: 0.585 | Val Acc: 83.210% (8321/10000)\n",
            "Saving the model..\n"
          ],
          "name": "stdout"
        },
        {
          "output_type": "execute_result",
          "data": {
            "text/plain": [
              "([tensor(3.3610),\n",
              "  tensor(3.8052),\n",
              "  tensor(3.7910),\n",
              "  tensor(3.8445),\n",
              "  tensor(3.8949),\n",
              "  tensor(3.8785),\n",
              "  tensor(3.8838),\n",
              "  tensor(3.9413),\n",
              "  tensor(3.8602),\n",
              "  tensor(3.9087),\n",
              "  tensor(2.8330),\n",
              "  tensor(2.2651),\n",
              "  tensor(1.9757),\n",
              "  tensor(1.6955),\n",
              "  tensor(1.4871),\n",
              "  tensor(1.3457),\n",
              "  tensor(1.2061),\n",
              "  tensor(1.1054),\n",
              "  tensor(1.0332),\n",
              "  tensor(0.9664)],\n",
              " [tensor(2.1331),\n",
              "  tensor(2.0106),\n",
              "  tensor(2.2420),\n",
              "  tensor(2.1870),\n",
              "  tensor(2.4066),\n",
              "  tensor(2.2933),\n",
              "  tensor(2.1926),\n",
              "  tensor(2.2242),\n",
              "  tensor(2.2256),\n",
              "  tensor(2.3177),\n",
              "  tensor(1.5467),\n",
              "  tensor(1.3231),\n",
              "  tensor(1.1855),\n",
              "  tensor(1.0078),\n",
              "  tensor(0.8790),\n",
              "  tensor(0.7820),\n",
              "  tensor(0.7330),\n",
              "  tensor(0.6700),\n",
              "  tensor(0.6412),\n",
              "  tensor(0.5853)])"
            ]
          },
          "metadata": {
            "tags": []
          },
          "execution_count": 18
        }
      ]
    },
    {
      "cell_type": "code",
      "metadata": {
        "id": "rAMt5VlZebx0"
      },
      "source": [
        ""
      ],
      "execution_count": null,
      "outputs": []
    },
    {
      "cell_type": "markdown",
      "metadata": {
        "id": "vMX96IaU-s3_"
      },
      "source": [
        "#Batch size 128"
      ]
    },
    {
      "cell_type": "code",
      "metadata": {
        "colab": {
          "base_uri": "https://localhost:8080/"
        },
        "id": "CX1HOY1a-uU8",
        "outputId": "0ddc65f4-1d7d-4d50-e597-0d11e8e71678"
      },
      "source": [
        "train = torch.utils.data.DataLoader(trainset, batch_size=128, shuffle=True, num_workers = 2)\r\n",
        "test = torch.utils.data.DataLoader(testset, batch_size = 128, shuffle=True, num_workers = 2)\r\n",
        "model = EfficientNet.from_pretrained(model_name)\r\n",
        "model.to(device)\r\n",
        "for param in model.parameters():\r\n",
        "    param.requires_grad = False\r\n",
        "    \r\n",
        "num_ftrs = model._fc.in_features\r\n",
        "model._fc = nn.Linear(num_ftrs, 10).cuda()\r\n",
        "model.to(device)\r\n",
        "\r\n",
        "criterion = nn.CrossEntropyLoss()\r\n",
        "optimizer = optim.SGD(model._fc.parameters(), lr=0.1, momentum=0.9)\r\n",
        "\r\n",
        "from torch.optim import lr_scheduler\r\n",
        "learningrate_scheduler = lr_scheduler.StepLR(optimizer, step_size=7, gamma=0.1)\r\n",
        "\r\n",
        "loss1 , loss2 = train_(model, train, test, optimizer, criterion, learningrate_scheduler, device , epochs = 20)"
      ],
      "execution_count": null,
      "outputs": [
        {
          "output_type": "stream",
          "text": [
            "Loaded pretrained weights for efficientnet-b0\n",
            "Epoch: [0/20] Train Loss: 0.638 | Train Acc: 78.854% (39427/50000)\n",
            "Epoch: [0/20] Val Loss: 0.477 | Val Acc: 84.050% (8405/10000)\n",
            "Saving the model..\n",
            "Epoch: [1/20] Train Loss: 0.538 | Train Acc: 81.974% (40987/50000)\n",
            "Epoch: [1/20] Val Loss: 0.418 | Val Acc: 85.990% (8599/10000)\n",
            "Saving the model..\n",
            "Epoch: [2/20] Train Loss: 0.530 | Train Acc: 82.084% (41042/50000)\n",
            "Epoch: [2/20] Val Loss: 0.415 | Val Acc: 86.080% (8608/10000)\n",
            "Saving the model..\n",
            "Epoch: [3/20] Train Loss: 0.523 | Train Acc: 82.364% (41182/50000)\n",
            "Epoch: [3/20] Val Loss: 0.412 | Val Acc: 86.130% (8613/10000)\n",
            "Saving the model..\n",
            "Epoch: [4/20] Train Loss: 0.523 | Train Acc: 82.606% (41303/50000)\n",
            "Epoch: [4/20] Val Loss: 0.405 | Val Acc: 86.190% (8619/10000)\n",
            "Saving the model..\n",
            "Epoch: [5/20] Train Loss: 0.515 | Train Acc: 82.570% (41285/50000)\n",
            "Epoch: [5/20] Val Loss: 0.424 | Val Acc: 85.720% (8572/10000)\n",
            "Epoch: [6/20] Train Loss: 0.523 | Train Acc: 82.198% (41099/50000)\n",
            "Epoch: [6/20] Val Loss: 0.419 | Val Acc: 85.730% (8573/10000)\n",
            "Epoch: [7/20] Train Loss: 0.486 | Train Acc: 83.364% (41682/50000)\n",
            "Epoch: [7/20] Val Loss: 0.394 | Val Acc: 86.710% (8671/10000)\n",
            "Saving the model..\n",
            "Epoch: [8/20] Train Loss: 0.480 | Train Acc: 83.666% (41833/50000)\n",
            "Epoch: [8/20] Val Loss: 0.387 | Val Acc: 86.940% (8694/10000)\n",
            "Saving the model..\n",
            "Epoch: [9/20] Train Loss: 0.475 | Train Acc: 83.820% (41910/50000)\n",
            "Epoch: [9/20] Val Loss: 0.387 | Val Acc: 87.010% (8701/10000)\n",
            "Saving the model..\n",
            "Epoch: [10/20] Train Loss: 0.475 | Train Acc: 83.702% (41851/50000)\n",
            "Epoch: [10/20] Val Loss: 0.384 | Val Acc: 86.900% (8690/10000)\n",
            "Epoch: [11/20] Train Loss: 0.469 | Train Acc: 83.826% (41913/50000)\n",
            "Epoch: [11/20] Val Loss: 0.381 | Val Acc: 87.110% (8711/10000)\n",
            "Saving the model..\n",
            "Epoch: [12/20] Train Loss: 0.464 | Train Acc: 84.096% (42048/50000)\n",
            "Epoch: [12/20] Val Loss: 0.380 | Val Acc: 87.140% (8714/10000)\n",
            "Saving the model..\n",
            "Epoch: [13/20] Train Loss: 0.469 | Train Acc: 83.920% (41960/50000)\n",
            "Epoch: [13/20] Val Loss: 0.383 | Val Acc: 87.110% (8711/10000)\n",
            "Epoch: [14/20] Train Loss: 0.466 | Train Acc: 83.908% (41954/50000)\n",
            "Epoch: [14/20] Val Loss: 0.381 | Val Acc: 87.060% (8706/10000)\n",
            "Epoch: [15/20] Train Loss: 0.460 | Train Acc: 84.256% (42128/50000)\n",
            "Epoch: [15/20] Val Loss: 0.380 | Val Acc: 87.010% (8701/10000)\n",
            "Epoch: [16/20] Train Loss: 0.464 | Train Acc: 84.164% (42082/50000)\n",
            "Epoch: [16/20] Val Loss: 0.380 | Val Acc: 87.030% (8703/10000)\n",
            "Epoch: [17/20] Train Loss: 0.461 | Train Acc: 84.152% (42076/50000)\n",
            "Epoch: [17/20] Val Loss: 0.380 | Val Acc: 87.060% (8706/10000)\n",
            "Epoch: [18/20] Train Loss: 0.464 | Train Acc: 84.082% (42041/50000)\n",
            "Epoch: [18/20] Val Loss: 0.380 | Val Acc: 87.110% (8711/10000)\n",
            "Epoch: [19/20] Train Loss: 0.466 | Train Acc: 84.030% (42015/50000)\n",
            "Epoch: [19/20] Val Loss: 0.380 | Val Acc: 87.060% (8706/10000)\n"
          ],
          "name": "stdout"
        }
      ]
    },
    {
      "cell_type": "markdown",
      "metadata": {
        "id": "LwLKz-cAC5eV"
      },
      "source": [
        "#Batch size 256"
      ]
    },
    {
      "cell_type": "code",
      "metadata": {
        "colab": {
          "base_uri": "https://localhost:8080/"
        },
        "id": "jPQgZtLe_tGV",
        "outputId": "86f38b5e-429e-4f63-bb17-99c7b37b090d"
      },
      "source": [
        "best_acc = 0\r\n",
        "train = torch.utils.data.DataLoader(trainset, batch_size=256, shuffle=True, num_workers = 2)\r\n",
        "test = torch.utils.data.DataLoader(testset, batch_size = 256, shuffle=True, num_workers = 2)\r\n",
        "model = EfficientNet.from_pretrained(model_name)\r\n",
        "model.to(device)\r\n",
        "for param in model.parameters():\r\n",
        "    param.requires_grad = False\r\n",
        "    \r\n",
        "num_ftrs = model._fc.in_features\r\n",
        "model._fc = nn.Linear(num_ftrs, 10).cuda()\r\n",
        "model.to(device)\r\n",
        "\r\n",
        "criterion = nn.CrossEntropyLoss()\r\n",
        "optimizer = optim.SGD(model._fc.parameters(), lr=0.1, momentum=0.9)\r\n",
        "\r\n",
        "from torch.optim import lr_scheduler\r\n",
        "learningrate_scheduler = lr_scheduler.StepLR(optimizer, step_size=7, gamma=0.1)\r\n",
        "\r\n",
        "loss1 , loss2 = train_(model, train, test, optimizer, criterion, learningrate_scheduler, device , epochs = 20)"
      ],
      "execution_count": null,
      "outputs": [
        {
          "output_type": "stream",
          "text": [
            "Loaded pretrained weights for efficientnet-b0\n",
            "Epoch: [0/20] Train Loss: 0.683 | Train Acc: 77.868% (38934/50000)\n",
            "Epoch: [0/20] Val Loss: 1.149 | Val Acc: 61.490% (6149/10000)\n",
            "Saving the model..\n",
            "Epoch: [1/20] Train Loss: 0.526 | Train Acc: 82.312% (41156/50000)\n",
            "Epoch: [1/20] Val Loss: 0.451 | Val Acc: 85.050% (8505/10000)\n",
            "Saving the model..\n",
            "Epoch: [2/20] Train Loss: 0.501 | Train Acc: 83.066% (41533/50000)\n",
            "Epoch: [2/20] Val Loss: 0.401 | Val Acc: 86.620% (8662/10000)\n",
            "Saving the model..\n",
            "Epoch: [3/20] Train Loss: 0.493 | Train Acc: 83.182% (41591/50000)\n",
            "Epoch: [3/20] Val Loss: 0.408 | Val Acc: 86.370% (8637/10000)\n",
            "Epoch: [4/20] Train Loss: 0.488 | Train Acc: 83.382% (41691/50000)\n",
            "Epoch: [4/20] Val Loss: 0.397 | Val Acc: 86.580% (8658/10000)\n",
            "Epoch: [5/20] Train Loss: 0.482 | Train Acc: 83.410% (41705/50000)\n",
            "Epoch: [5/20] Val Loss: 0.399 | Val Acc: 86.590% (8659/10000)\n",
            "Epoch: [6/20] Train Loss: 0.479 | Train Acc: 83.658% (41829/50000)\n",
            "Epoch: [6/20] Val Loss: 0.395 | Val Acc: 86.700% (8670/10000)\n",
            "Saving the model..\n",
            "Epoch: [7/20] Train Loss: 0.464 | Train Acc: 84.114% (42057/50000)\n",
            "Epoch: [7/20] Val Loss: 0.386 | Val Acc: 87.170% (8717/10000)\n",
            "Saving the model..\n",
            "Epoch: [8/20] Train Loss: 0.459 | Train Acc: 84.238% (42119/50000)\n",
            "Epoch: [8/20] Val Loss: 0.386 | Val Acc: 87.170% (8717/10000)\n",
            "Epoch: [9/20] Train Loss: 0.454 | Train Acc: 84.260% (42130/50000)\n",
            "Epoch: [9/20] Val Loss: 0.384 | Val Acc: 87.150% (8715/10000)\n",
            "Epoch: [10/20] Train Loss: 0.448 | Train Acc: 84.640% (42320/50000)\n",
            "Epoch: [10/20] Val Loss: 0.384 | Val Acc: 87.140% (8714/10000)\n",
            "Epoch: [11/20] Train Loss: 0.455 | Train Acc: 84.226% (42113/50000)\n",
            "Epoch: [11/20] Val Loss: 0.383 | Val Acc: 87.160% (8716/10000)\n",
            "Epoch: [12/20] Train Loss: 0.455 | Train Acc: 84.292% (42146/50000)\n",
            "Epoch: [12/20] Val Loss: 0.383 | Val Acc: 87.270% (8727/10000)\n",
            "Saving the model..\n",
            "Epoch: [13/20] Train Loss: 0.457 | Train Acc: 84.400% (42200/50000)\n",
            "Epoch: [13/20] Val Loss: 0.383 | Val Acc: 87.220% (8722/10000)\n",
            "Epoch: [14/20] Train Loss: 0.450 | Train Acc: 84.596% (42298/50000)\n",
            "Epoch: [14/20] Val Loss: 0.382 | Val Acc: 87.280% (8728/10000)\n",
            "Saving the model..\n",
            "Epoch: [15/20] Train Loss: 0.449 | Train Acc: 84.434% (42217/50000)\n",
            "Epoch: [15/20] Val Loss: 0.382 | Val Acc: 87.270% (8727/10000)\n",
            "Epoch: [16/20] Train Loss: 0.453 | Train Acc: 84.618% (42309/50000)\n",
            "Epoch: [16/20] Val Loss: 0.382 | Val Acc: 87.260% (8726/10000)\n",
            "Epoch: [17/20] Train Loss: 0.446 | Train Acc: 84.700% (42350/50000)\n",
            "Epoch: [17/20] Val Loss: 0.382 | Val Acc: 87.290% (8729/10000)\n",
            "Saving the model..\n",
            "Epoch: [18/20] Train Loss: 0.450 | Train Acc: 84.616% (42308/50000)\n",
            "Epoch: [18/20] Val Loss: 0.382 | Val Acc: 87.280% (8728/10000)\n",
            "Epoch: [19/20] Train Loss: 0.450 | Train Acc: 84.442% (42221/50000)\n",
            "Epoch: [19/20] Val Loss: 0.382 | Val Acc: 87.370% (8737/10000)\n",
            "Saving the model..\n"
          ],
          "name": "stdout"
        }
      ]
    },
    {
      "cell_type": "code",
      "metadata": {
        "colab": {
          "base_uri": "https://localhost:8080/",
          "height": 281
        },
        "id": "XD2kS94tKtxI",
        "outputId": "48fe19fa-5b75-4ff3-bc3c-b307111277cd"
      },
      "source": [
        "x = [i for i in np.arange(0, 20)]\r\n",
        "plt.plot(x, loss1, Label = 'Training Loss')\r\n",
        "plt.plot(x, loss2, Label = 'Validation Loss ')\r\n",
        "plt.legend(loc = 'upper right')\r\n",
        "plt.title(\"Training loss vs validation loss\")\r\n",
        "plt.show()"
      ],
      "execution_count": null,
      "outputs": [
        {
          "output_type": "display_data",
          "data": {
            "image/png": "[encoded data removed]",
            "text/plain": [
              "<Figure size 432x288 with 1 Axes>"
            ]
          },
          "metadata": {
            "tags": [],
            "needs_background": "light"
          }
        }
      ]
    },
    {
      "cell_type": "code",
      "metadata": {
        "id": "VoDssK0ab1Ou"
      },
      "source": [
        "a, b = next(iter(train))"
      ],
      "execution_count": null,
      "outputs": []
    },
    {
      "cell_type": "code",
      "metadata": {
        "colab": {
          "base_uri": "https://localhost:8080/"
        },
        "id": "YKfXedLUsEwu",
        "outputId": "265ca570-3215-4e89-ad76-d8de48a1609c"
      },
      "source": [
        "b"
      ],
      "execution_count": null,
      "outputs": [
        {
          "output_type": "execute_result",
          "data": {
            "text/plain": [
              "tensor([4])"
            ]
          },
          "metadata": {
            "tags": []
          },
          "execution_count": 11
        }
      ]
    },
    {
      "cell_type": "code",
      "metadata": {
        "id": "xdJSDtCFswpV"
      },
      "source": [
        "train = torch.utils.data.DataLoader(trainset, batch_size=1, shuffle=True, num_workers = 2)"
      ],
      "execution_count": null,
      "outputs": []
    },
    {
      "cell_type": "code",
      "metadata": {
        "id": "lTQ2LLN0sUDM"
      },
      "source": [
        "c = model(a)"
      ],
      "execution_count": null,
      "outputs": []
    },
    {
      "cell_type": "code",
      "metadata": {
        "colab": {
          "base_uri": "https://localhost:8080/"
        },
        "id": "PEeOArVvsmpI",
        "outputId": "c744b36f-c12d-48a9-843f-7233258e1a75"
      },
      "source": [
        "a.shape"
      ],
      "execution_count": null,
      "outputs": [
        {
          "output_type": "execute_result",
          "data": {
            "text/plain": [
              "torch.Size([1, 3, 224, 224])"
            ]
          },
          "metadata": {
            "tags": []
          },
          "execution_count": 17
        }
      ]
    },
    {
      "cell_type": "code",
      "metadata": {
        "colab": {
          "base_uri": "https://localhost:8080/"
        },
        "id": "G7j1296Vs9SB",
        "outputId": "9fddebf0-2092-42b2-c963-c6cd5b1ad121"
      },
      "source": [
        "a.get_device()"
      ],
      "execution_count": null,
      "outputs": [
        {
          "output_type": "execute_result",
          "data": {
            "text/plain": [
              "-1"
            ]
          },
          "metadata": {
            "tags": []
          },
          "execution_count": 23
        }
      ]
    },
    {
      "cell_type": "code",
      "metadata": {
        "colab": {
          "base_uri": "https://localhost:8080/"
        },
        "id": "_JYeWFRKvZfe",
        "outputId": "3bc29aed-09cc-4484-bb6e-538ae7fdf08f"
      },
      "source": [
        "a.to(device)"
      ],
      "execution_count": null,
      "outputs": [
        {
          "output_type": "execute_result",
          "data": {
            "text/plain": [
              "tensor([[[[-2.1189, -2.1189, -2.0995,  ..., -2.0801, -2.0801, -2.0801],\n",
              "          [-2.1189, -2.1189, -2.0995,  ..., -2.0801, -2.0801, -2.0801],\n",
              "          [-2.1189, -2.1189, -2.0995,  ..., -2.0608, -2.0608, -2.0608],\n",
              "          ...,\n",
              "          [-1.9251, -1.9251, -1.9251,  ..., -1.7118, -1.7118, -1.7118],\n",
              "          [-1.9251, -1.9251, -1.9251,  ..., -1.7118, -1.7118, -1.7118],\n",
              "          [-1.9251, -1.9251, -1.9251,  ..., -1.7118, -1.7118, -1.7118]],\n",
              "\n",
              "         [[-1.9463, -1.9463, -1.9266,  ..., -2.0053, -2.0053, -2.0053],\n",
              "          [-1.9463, -1.9463, -1.9266,  ..., -1.9856, -1.9856, -1.9856],\n",
              "          [-1.9463, -1.9463, -1.9069,  ..., -1.9856, -1.9856, -1.9856],\n",
              "          ...,\n",
              "          [-1.7299, -1.7299, -1.7299,  ..., -1.6119, -1.6119, -1.6119],\n",
              "          [-1.7299, -1.7299, -1.7299,  ..., -1.6119, -1.6119, -1.6119],\n",
              "          [-1.7496, -1.7496, -1.7496,  ..., -1.6119, -1.6119, -1.6119]],\n",
              "\n",
              "         [[-1.9873, -1.9873, -1.9678,  ..., -2.0458, -2.0263, -2.0263],\n",
              "          [-1.9873, -1.9873, -1.9678,  ..., -2.0263, -2.0263, -2.0263],\n",
              "          [-1.9873, -1.9873, -1.9678,  ..., -2.0263, -2.0263, -2.0263],\n",
              "          ...,\n",
              "          [-1.9287, -1.9287, -1.9287,  ..., -1.7336, -1.7336, -1.7336],\n",
              "          [-1.9482, -1.9482, -1.9482,  ..., -1.7336, -1.7336, -1.7336],\n",
              "          [-1.9482, -1.9482, -1.9482,  ..., -1.7336, -1.7336, -1.7336]]]],\n",
              "       device='cuda:0')"
            ]
          },
          "metadata": {
            "tags": []
          },
          "execution_count": 20
        }
      ]
    },
    {
      "cell_type": "code",
      "metadata": {
        "colab": {
          "base_uri": "https://localhost:8080/",
          "height": 164
        },
        "id": "qJRCBU-jv3fm",
        "outputId": "42558fde-410c-472e-9e06-953de81ffd7d"
      },
      "source": [
        "d = get_device(a)"
      ],
      "execution_count": null,
      "outputs": [
        {
          "output_type": "error",
          "ename": "NameError",
          "evalue": "ignored",
          "traceback": [
            "\u001b[0;31m---------------------------------------------------------------------------\u001b[0m",
            "\u001b[0;31mNameError\u001b[0m                                 Traceback (most recent call last)",
            "\u001b[0;32m<ipython-input-24-6ef8d7a50770>\u001b[0m in \u001b[0;36m<module>\u001b[0;34m()\u001b[0m\n\u001b[0;32m----> 1\u001b[0;31m \u001b[0md\u001b[0m \u001b[0;34m=\u001b[0m \u001b[0mget_device\u001b[0m\u001b[0;34m(\u001b[0m\u001b[0ma\u001b[0m\u001b[0;34m)\u001b[0m\u001b[0;34m\u001b[0m\u001b[0;34m\u001b[0m\u001b[0m\n\u001b[0m",
            "\u001b[0;31mNameError\u001b[0m: name 'get_device' is not defined"
          ]
        }
      ]
    },
    {
      "cell_type": "code",
      "metadata": {
        "colab": {
          "base_uri": "https://localhost:8080/"
        },
        "id": "reYykbGewEqv",
        "outputId": "80f2407d-72db-4c34-aefe-de44d85ebba8"
      },
      "source": [
        "a"
      ],
      "execution_count": null,
      "outputs": [
        {
          "output_type": "execute_result",
          "data": {
            "text/plain": [
              "tensor([[[[-2.1189, -2.1189, -2.0995,  ..., -2.0801, -2.0801, -2.0801],\n",
              "          [-2.1189, -2.1189, -2.0995,  ..., -2.0801, -2.0801, -2.0801],\n",
              "          [-2.1189, -2.1189, -2.0995,  ..., -2.0608, -2.0608, -2.0608],\n",
              "          ...,\n",
              "          [-1.9251, -1.9251, -1.9251,  ..., -1.7118, -1.7118, -1.7118],\n",
              "          [-1.9251, -1.9251, -1.9251,  ..., -1.7118, -1.7118, -1.7118],\n",
              "          [-1.9251, -1.9251, -1.9251,  ..., -1.7118, -1.7118, -1.7118]],\n",
              "\n",
              "         [[-1.9463, -1.9463, -1.9266,  ..., -2.0053, -2.0053, -2.0053],\n",
              "          [-1.9463, -1.9463, -1.9266,  ..., -1.9856, -1.9856, -1.9856],\n",
              "          [-1.9463, -1.9463, -1.9069,  ..., -1.9856, -1.9856, -1.9856],\n",
              "          ...,\n",
              "          [-1.7299, -1.7299, -1.7299,  ..., -1.6119, -1.6119, -1.6119],\n",
              "          [-1.7299, -1.7299, -1.7299,  ..., -1.6119, -1.6119, -1.6119],\n",
              "          [-1.7496, -1.7496, -1.7496,  ..., -1.6119, -1.6119, -1.6119]],\n",
              "\n",
              "         [[-1.9873, -1.9873, -1.9678,  ..., -2.0458, -2.0263, -2.0263],\n",
              "          [-1.9873, -1.9873, -1.9678,  ..., -2.0263, -2.0263, -2.0263],\n",
              "          [-1.9873, -1.9873, -1.9678,  ..., -2.0263, -2.0263, -2.0263],\n",
              "          ...,\n",
              "          [-1.9287, -1.9287, -1.9287,  ..., -1.7336, -1.7336, -1.7336],\n",
              "          [-1.9482, -1.9482, -1.9482,  ..., -1.7336, -1.7336, -1.7336],\n",
              "          [-1.9482, -1.9482, -1.9482,  ..., -1.7336, -1.7336, -1.7336]]]])"
            ]
          },
          "metadata": {
            "tags": []
          },
          "execution_count": 25
        }
      ]
    },
    {
      "cell_type": "code",
      "metadata": {
        "id": "k1QzWkxjwMzE"
      },
      "source": [
        ""
      ],
      "execution_count": null,
      "outputs": []
    }
  ]
}